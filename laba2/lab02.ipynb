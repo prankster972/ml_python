{
  "cells": [
    {
      "cell_type": "markdown",
      "metadata": {
        "id": "view-in-github",
        "colab_type": "text"
      },
      "source": [
        "<a href=\"https://colab.research.google.com/github/prankster972/ml_python/blob/main/laba2/lab02.ipynb\" target=\"_parent\"><img src=\"https://colab.research.google.com/assets/colab-badge.svg\" alt=\"Open In Colab\"/></a>"
      ]
    },
    {
      "cell_type": "markdown",
      "metadata": {
        "id": "0-r1OnzrK1Os"
      },
      "source": [
        "# Задание на лабораторную работу №2. Pandas и основы python\n",
        "## Общее задание\n",
        "1. Сгенерировать с использованием библиотеки pandas csv файл, содержащий 3 столбца: $x_1$, $x_2$, $y$ (> 400 строк, генерация с использованием функции linspace). Вид функции определяется вариантом (диапазон выбирается студентом).\n",
        "2. Открыть файл с использованием библиотеки pandas и построить графики: $y(x_1)$ ($x_2$ - константа), $y(x_2)$  ($x_1$ - константа). Графики необходимо построить с использованием matplotlib (для функции y отобразить точки на графике).\n",
        "3. Вывести для каждого столбца $(x_1, x_2, y)$: среднее, минимальное и максимальное значения.\n",
        "4. Сохранить в новый csv файл те строки, для которых выполняется условие: $x_1$ меньше среднее $x_1$ или $x_2$ меньше среднее $x_2$\n",
        "5. С использованием mplot3D построить 3D график функции $y(x_1, x_2)$ в отдельном окне.\n",
        "\n",
        "## Варианты\n",
        "1. $y = sin(x_1 + x_2)$\n",
        "2. $y = cos(x_1 + x_2)$\n",
        "3. $y = tan(x_1 + x_2) * sin(x_1)$\n",
        "4. $y = 2 * x_1^2 + 3x_2^2$\n",
        "5. $y = 5 * log(x_1) * log(2 * x_2)$\n",
        "6. $y = 5 * log(x_1) * x_2^2$\n",
        "7. $y = cos(x_1) * x_2^3$\n",
        "8. $y = \\frac{3}{(2 + e^{-2x})}$\n",
        "9. $y = cos(x_1 + x_2) * x_2 ^ 2$\n",
        "10. $y = \\frac{x_2}{(1 + e^{-x_1})}$\n",
        "11. $y = \\frac{3 * x_1}{(1 - e^{-x_2})}$\n",
        "12. $y = 0.01 * tan(x_1) * x_2^2$\n",
        "13. $y = x_1^6 + x_2^2 + x_1^3 + 4x_2 + 5$\n",
        "14. $y = cos(x_1) * x_2^3$\n",
        "15. $y = tan(x_1) * ctg(x_2)$\n",
        "16. $y = \\frac{sin(x_1)}{(1 + e^{-2x_2})}$\n",
        "17. $y = \\frac{cos(x_1)}{(1 + e^{-2x_2})}$\n",
        "18. $y = \\frac{tan(x_1)}{(3 + e^{-2x_2})}$\n",
        "19. $y = \\frac{ctg(x_1)}{(2 + e^{-2x_2})}$\n",
        "20. $y = \\frac{x_1^2}{(1 + e^{-2x_2})}$\n"
      ]
    },
    {
      "cell_type": "code",
      "source": [
        "#18 вариант\n",
        "import pandas as pd\n",
        "import numpy as np\n",
        "df = pd.DataFrame({'X1': ['Raphael', 'Donatello'], 'X2': ['red', 'purple'], 'Y': ['sai', 'bo staff']})\n",
        "# df.to_csv('out.csv', index=False)"
      ],
      "metadata": {
        "id": "WPKz4IoXK4zG"
      },
      "execution_count": 7,
      "outputs": []
    }
  ],
  "metadata": {
    "kernelspec": {
      "display_name": "Python 3",
      "language": "python",
      "name": "python3"
    },
    "language_info": {
      "codemirror_mode": {
        "name": "ipython",
        "version": 3
      },
      "file_extension": ".py",
      "mimetype": "text/x-python",
      "name": "python",
      "nbconvert_exporter": "python",
      "pygments_lexer": "ipython3",
      "version": "3.8.12"
    },
    "colab": {
      "provenance": [],
      "include_colab_link": true
    }
  },
  "nbformat": 4,
  "nbformat_minor": 0
}